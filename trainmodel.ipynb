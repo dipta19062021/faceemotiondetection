{
 "cells": [
  {
   "cell_type": "code",
   "execution_count": 1,
   "id": "4c59f284",
   "metadata": {},
   "outputs": [],
   "source": [
    "from keras.utils import to_categorical\n",
    "from keras_preprocessing.image import load_img\n",
    "from keras.models import Sequential\n",
    "from keras.layers import Dense,Conv2D,Flatten, MaxPooling2D, Dropout\n",
    "import os\n",
    "import pandas as pd\n",
    "import numpy as np"
   ]
  },
  {
   "cell_type": "code",
   "execution_count": 2,
   "id": "997fe7a3",
   "metadata": {},
   "outputs": [
    {
     "name": "stdout",
     "output_type": "stream",
     "text": [
      "Requirement already satisfied: pandas in c:\\users\\admin\\.conda\\envs\\tf-new\\lib\\site-packages (2.1.1)\n",
      "Requirement already satisfied: numpy>=1.22.4 in c:\\users\\admin\\.conda\\envs\\tf-new\\lib\\site-packages (from pandas) (1.26.0)\n",
      "Requirement already satisfied: python-dateutil>=2.8.2 in c:\\users\\admin\\.conda\\envs\\tf-new\\lib\\site-packages (from pandas) (2.8.2)\n",
      "Requirement already satisfied: pytz>=2020.1 in c:\\users\\admin\\.conda\\envs\\tf-new\\lib\\site-packages (from pandas) (2023.3.post1)\n",
      "Requirement already satisfied: tzdata>=2022.1 in c:\\users\\admin\\.conda\\envs\\tf-new\\lib\\site-packages (from pandas) (2023.3)\n",
      "Requirement already satisfied: six>=1.5 in c:\\users\\admin\\.conda\\envs\\tf-new\\lib\\site-packages (from python-dateutil>=2.8.2->pandas) (1.16.0)\n",
      "Note: you may need to restart the kernel to use updated packages.\n"
     ]
    }
   ],
   "source": [
    "pip install pandas"
   ]
  },
  {
   "cell_type": "code",
   "execution_count": 3,
   "id": "7706f15f",
   "metadata": {},
   "outputs": [],
   "source": [
    "train_dir='images/train'\n",
    "test_dir='images/test'"
   ]
  },
  {
   "cell_type": "code",
   "execution_count": 4,
   "id": "2658376d",
   "metadata": {},
   "outputs": [],
   "source": [
    "def createdataframe(dir):\n",
    "    labels=[]\n",
    "    image_paths=[]\n",
    "    for label in os.listdir(dir):\n",
    "        for imagename in os.listdir(os.path.join(dir,label)):\n",
    "            image_paths.append(os.path.join(dir,label,imagename))\n",
    "            labels.append(label)\n",
    "        print(label,\"completed\")\n",
    "    return image_paths,labels"
   ]
  },
  {
   "cell_type": "code",
   "execution_count": 5,
   "id": "4381b7bb",
   "metadata": {},
   "outputs": [
    {
     "name": "stdout",
     "output_type": "stream",
     "text": [
      "Requirement already satisfied: tqdm in c:\\users\\admin\\.conda\\envs\\tf-new\\lib\\site-packages (4.66.1)Note: you may need to restart the kernel to use updated packages.\n",
      "\n",
      "Requirement already satisfied: colorama in c:\\users\\admin\\.conda\\envs\\tf-new\\lib\\site-packages (from tqdm) (0.4.6)\n"
     ]
    }
   ],
   "source": [
    "pip install tqdm"
   ]
  },
  {
   "cell_type": "code",
   "execution_count": 6,
   "id": "fa7f8f10",
   "metadata": {},
   "outputs": [],
   "source": [
    "from tqdm.notebook import tqdm"
   ]
  },
  {
   "cell_type": "code",
   "execution_count": 7,
   "id": "71e61681",
   "metadata": {},
   "outputs": [
    {
     "name": "stdout",
     "output_type": "stream",
     "text": [
      "angry completed\n",
      "disgust completed\n",
      "fear completed\n",
      "happy completed\n",
      "neutral completed\n",
      "sad completed\n",
      "surprise completed\n"
     ]
    }
   ],
   "source": [
    "train=pd.DataFrame()\n",
    "train['image'],train['label']=createdataframe(train_dir)"
   ]
  },
  {
   "cell_type": "code",
   "execution_count": 8,
   "id": "025f48ae",
   "metadata": {},
   "outputs": [
    {
     "name": "stdout",
     "output_type": "stream",
     "text": [
      "                                image     label\n",
      "0            images/train\\angry\\0.jpg     angry\n",
      "1            images/train\\angry\\1.jpg     angry\n",
      "2           images/train\\angry\\10.jpg     angry\n",
      "3        images/train\\angry\\10002.jpg     angry\n",
      "4        images/train\\angry\\10016.jpg     angry\n",
      "...                               ...       ...\n",
      "28816  images/train\\surprise\\9969.jpg  surprise\n",
      "28817  images/train\\surprise\\9985.jpg  surprise\n",
      "28818  images/train\\surprise\\9990.jpg  surprise\n",
      "28819  images/train\\surprise\\9992.jpg  surprise\n",
      "28820  images/train\\surprise\\9996.jpg  surprise\n",
      "\n",
      "[28821 rows x 2 columns]\n",
      "0              images/train\\angry\\0.jpg\n",
      "1              images/train\\angry\\1.jpg\n",
      "2             images/train\\angry\\10.jpg\n",
      "3          images/train\\angry\\10002.jpg\n",
      "4          images/train\\angry\\10016.jpg\n",
      "                      ...              \n",
      "28816    images/train\\surprise\\9969.jpg\n",
      "28817    images/train\\surprise\\9985.jpg\n",
      "28818    images/train\\surprise\\9990.jpg\n",
      "28819    images/train\\surprise\\9992.jpg\n",
      "28820    images/train\\surprise\\9996.jpg\n",
      "Name: image, Length: 28821, dtype: object\n"
     ]
    }
   ],
   "source": [
    "print(train)\n",
    "print(train['image'])"
   ]
  },
  {
   "cell_type": "code",
   "execution_count": 9,
   "id": "57c4e248",
   "metadata": {},
   "outputs": [
    {
     "name": "stdout",
     "output_type": "stream",
     "text": [
      "angry completed\n",
      "disgust completed\n",
      "fear completed\n",
      "happy completed\n",
      "neutral completed\n",
      "sad completed\n",
      "surprise completed\n"
     ]
    }
   ],
   "source": [
    "test=pd.DataFrame()\n",
    "test['image'],test['label']=createdataframe(test_dir)"
   ]
  },
  {
   "cell_type": "code",
   "execution_count": 10,
   "id": "3df17efe",
   "metadata": {},
   "outputs": [
    {
     "name": "stdout",
     "output_type": "stream",
     "text": [
      "                              image     label\n",
      "0       images/test\\angry\\10052.jpg     angry\n",
      "1       images/test\\angry\\10065.jpg     angry\n",
      "2       images/test\\angry\\10079.jpg     angry\n",
      "3       images/test\\angry\\10095.jpg     angry\n",
      "4       images/test\\angry\\10121.jpg     angry\n",
      "...                             ...       ...\n",
      "7061  images/test\\surprise\\9806.jpg  surprise\n",
      "7062  images/test\\surprise\\9830.jpg  surprise\n",
      "7063  images/test\\surprise\\9853.jpg  surprise\n",
      "7064  images/test\\surprise\\9878.jpg  surprise\n",
      "7065   images/test\\surprise\\993.jpg  surprise\n",
      "\n",
      "[7066 rows x 2 columns]\n"
     ]
    }
   ],
   "source": [
    "print(test)"
   ]
  },
  {
   "cell_type": "code",
   "execution_count": 11,
   "id": "4aad60bf",
   "metadata": {},
   "outputs": [
    {
     "name": "stdout",
     "output_type": "stream",
     "text": [
      "Requirement already satisfied: ipywidgets in c:\\users\\admin\\.conda\\envs\\tf-new\\lib\\site-packages (8.1.1)\n",
      "Requirement already satisfied: comm>=0.1.3 in c:\\users\\admin\\.conda\\envs\\tf-new\\lib\\site-packages (from ipywidgets) (0.1.4)\n",
      "Requirement already satisfied: ipython>=6.1.0 in c:\\users\\admin\\.conda\\envs\\tf-new\\lib\\site-packages (from ipywidgets) (8.15.0)\n",
      "Requirement already satisfied: traitlets>=4.3.1 in c:\\users\\admin\\.conda\\envs\\tf-new\\lib\\site-packages (from ipywidgets) (5.7.1)\n",
      "Requirement already satisfied: widgetsnbextension~=4.0.9 in c:\\users\\admin\\.conda\\envs\\tf-new\\lib\\site-packages (from ipywidgets) (4.0.9)\n",
      "Requirement already satisfied: jupyterlab-widgets~=3.0.9 in c:\\users\\admin\\.conda\\envs\\tf-new\\lib\\site-packages (from ipywidgets) (3.0.9)\n",
      "Requirement already satisfied: backcall in c:\\users\\admin\\.conda\\envs\\tf-new\\lib\\site-packages (from ipython>=6.1.0->ipywidgets) (0.2.0)\n",
      "Requirement already satisfied: decorator in c:\\users\\admin\\.conda\\envs\\tf-new\\lib\\site-packages (from ipython>=6.1.0->ipywidgets) (5.1.1)\n",
      "Requirement already satisfied: jedi>=0.16 in c:\\users\\admin\\.conda\\envs\\tf-new\\lib\\site-packages (from ipython>=6.1.0->ipywidgets) (0.18.1)\n",
      "Requirement already satisfied: matplotlib-inline in c:\\users\\admin\\.conda\\envs\\tf-new\\lib\\site-packages (from ipython>=6.1.0->ipywidgets) (0.1.6)\n",
      "Requirement already satisfied: pickleshare in c:\\users\\admin\\.conda\\envs\\tf-new\\lib\\site-packages (from ipython>=6.1.0->ipywidgets) (0.7.5)\n",
      "Requirement already satisfied: prompt-toolkit!=3.0.37,<3.1.0,>=3.0.30 in c:\\users\\admin\\.conda\\envs\\tf-new\\lib\\site-packages (from ipython>=6.1.0->ipywidgets) (3.0.36)\n",
      "Requirement already satisfied: pygments>=2.4.0 in c:\\users\\admin\\.conda\\envs\\tf-new\\lib\\site-packages (from ipython>=6.1.0->ipywidgets) (2.15.1)\n",
      "Requirement already satisfied: stack-data in c:\\users\\admin\\.conda\\envs\\tf-new\\lib\\site-packages (from ipython>=6.1.0->ipywidgets) (0.2.0)\n",
      "Requirement already satisfied: typing-extensions in c:\\users\\admin\\.conda\\envs\\tf-new\\lib\\site-packages (from ipython>=6.1.0->ipywidgets) (4.7.1)\n",
      "Requirement already satisfied: exceptiongroup in c:\\users\\admin\\.conda\\envs\\tf-new\\lib\\site-packages (from ipython>=6.1.0->ipywidgets) (1.0.4)\n",
      "Requirement already satisfied: colorama in c:\\users\\admin\\.conda\\envs\\tf-new\\lib\\site-packages (from ipython>=6.1.0->ipywidgets) (0.4.6)\n",
      "Requirement already satisfied: parso<0.9.0,>=0.8.0 in c:\\users\\admin\\.conda\\envs\\tf-new\\lib\\site-packages (from jedi>=0.16->ipython>=6.1.0->ipywidgets) (0.8.3)\n",
      "Requirement already satisfied: wcwidth in c:\\users\\admin\\.conda\\envs\\tf-new\\lib\\site-packages (from prompt-toolkit!=3.0.37,<3.1.0,>=3.0.30->ipython>=6.1.0->ipywidgets) (0.2.5)\n",
      "Requirement already satisfied: executing in c:\\users\\admin\\.conda\\envs\\tf-new\\lib\\site-packages (from stack-data->ipython>=6.1.0->ipywidgets) (0.8.3)\n",
      "Requirement already satisfied: asttokens in c:\\users\\admin\\.conda\\envs\\tf-new\\lib\\site-packages (from stack-data->ipython>=6.1.0->ipywidgets) (2.0.5)\n",
      "Requirement already satisfied: pure-eval in c:\\users\\admin\\.conda\\envs\\tf-new\\lib\\site-packages (from stack-data->ipython>=6.1.0->ipywidgets) (0.2.2)\n",
      "Requirement already satisfied: six in c:\\users\\admin\\.conda\\envs\\tf-new\\lib\\site-packages (from asttokens->stack-data->ipython>=6.1.0->ipywidgets) (1.16.0)\n",
      "Note: you may need to restart the kernel to use updated packages.\n"
     ]
    }
   ],
   "source": [
    "pip install ipywidgets"
   ]
  },
  {
   "cell_type": "code",
   "execution_count": 12,
   "id": "174312a5",
   "metadata": {},
   "outputs": [
    {
     "name": "stdout",
     "output_type": "stream",
     "text": [
      "Requirement already satisfied: pillow in c:\\users\\admin\\.conda\\envs\\tf-new\\lib\\site-packages (10.1.0)\n",
      "Note: you may need to restart the kernel to use updated packages.\n"
     ]
    }
   ],
   "source": [
    "pip install pillow"
   ]
  },
  {
   "cell_type": "code",
   "execution_count": 13,
   "id": "cd521d1f",
   "metadata": {},
   "outputs": [],
   "source": [
    "def extract_features(images):\n",
    "    features=[]\n",
    "    for image in tqdm(images):\n",
    "        img=load_img(image, grayscale=True)\n",
    "        img=np.array(img)\n",
    "        features.append(img)\n",
    "    features=np.array(features)\n",
    "    features=features.reshape(len(features),48,48,1)\n",
    "    return features\n",
    "    "
   ]
  },
  {
   "cell_type": "code",
   "execution_count": 14,
   "id": "c671e3e0",
   "metadata": {},
   "outputs": [
    {
     "data": {
      "application/vnd.jupyter.widget-view+json": {
       "model_id": "16f881fa13e745629a6ef38a3c0094d9",
       "version_major": 2,
       "version_minor": 0
      },
      "text/plain": [
       "  0%|          | 0/28821 [00:00<?, ?it/s]"
      ]
     },
     "metadata": {},
     "output_type": "display_data"
    },
    {
     "name": "stderr",
     "output_type": "stream",
     "text": [
      "C:\\Users\\ADMIN\\.conda\\envs\\tf-new\\lib\\site-packages\\keras_preprocessing\\image\\utils.py:107: UserWarning: grayscale is deprecated. Please use color_mode = \"grayscale\"\n",
      "  warnings.warn('grayscale is deprecated. Please use '\n"
     ]
    }
   ],
   "source": [
    "train_features=extract_features(train['image'])"
   ]
  },
  {
   "cell_type": "code",
   "execution_count": 15,
   "id": "169c5465",
   "metadata": {},
   "outputs": [
    {
     "data": {
      "application/vnd.jupyter.widget-view+json": {
       "model_id": "0b73ba922c9a47688c55e89941bf36ef",
       "version_major": 2,
       "version_minor": 0
      },
      "text/plain": [
       "  0%|          | 0/7066 [00:00<?, ?it/s]"
      ]
     },
     "metadata": {},
     "output_type": "display_data"
    }
   ],
   "source": [
    "test_features=extract_features(test['image'])"
   ]
  },
  {
   "cell_type": "code",
   "execution_count": 16,
   "id": "27dbd5f0",
   "metadata": {},
   "outputs": [],
   "source": [
    "x_train=train_features/255.0\n",
    "x_test=test_features/255.0"
   ]
  },
  {
   "cell_type": "code",
   "execution_count": 17,
   "id": "8c063311",
   "metadata": {},
   "outputs": [
    {
     "name": "stdout",
     "output_type": "stream",
     "text": [
      "Requirement already satisfied: scikit-learn in c:\\users\\admin\\.conda\\envs\\tf-new\\lib\\site-packages (1.3.1)\n",
      "Requirement already satisfied: numpy<2.0,>=1.17.3 in c:\\users\\admin\\.conda\\envs\\tf-new\\lib\\site-packages (from scikit-learn) (1.26.0)\n",
      "Requirement already satisfied: scipy>=1.5.0 in c:\\users\\admin\\.conda\\envs\\tf-new\\lib\\site-packages (from scikit-learn) (1.11.3)\n",
      "Requirement already satisfied: joblib>=1.1.1 in c:\\users\\admin\\.conda\\envs\\tf-new\\lib\\site-packages (from scikit-learn) (1.3.2)\n",
      "Requirement already satisfied: threadpoolctl>=2.0.0 in c:\\users\\admin\\.conda\\envs\\tf-new\\lib\\site-packages (from scikit-learn) (3.2.0)\n",
      "Note: you may need to restart the kernel to use updated packages.\n"
     ]
    }
   ],
   "source": [
    "pip install -U scikit-learn "
   ]
  },
  {
   "cell_type": "code",
   "execution_count": 18,
   "id": "2df1eff4",
   "metadata": {},
   "outputs": [],
   "source": [
    "from sklearn.preprocessing import LabelEncoder"
   ]
  },
  {
   "cell_type": "code",
   "execution_count": 19,
   "id": "bdc5f790",
   "metadata": {},
   "outputs": [
    {
     "data": {
      "text/html": [
       "<style>#sk-container-id-1 {color: black;}#sk-container-id-1 pre{padding: 0;}#sk-container-id-1 div.sk-toggleable {background-color: white;}#sk-container-id-1 label.sk-toggleable__label {cursor: pointer;display: block;width: 100%;margin-bottom: 0;padding: 0.3em;box-sizing: border-box;text-align: center;}#sk-container-id-1 label.sk-toggleable__label-arrow:before {content: \"▸\";float: left;margin-right: 0.25em;color: #696969;}#sk-container-id-1 label.sk-toggleable__label-arrow:hover:before {color: black;}#sk-container-id-1 div.sk-estimator:hover label.sk-toggleable__label-arrow:before {color: black;}#sk-container-id-1 div.sk-toggleable__content {max-height: 0;max-width: 0;overflow: hidden;text-align: left;background-color: #f0f8ff;}#sk-container-id-1 div.sk-toggleable__content pre {margin: 0.2em;color: black;border-radius: 0.25em;background-color: #f0f8ff;}#sk-container-id-1 input.sk-toggleable__control:checked~div.sk-toggleable__content {max-height: 200px;max-width: 100%;overflow: auto;}#sk-container-id-1 input.sk-toggleable__control:checked~label.sk-toggleable__label-arrow:before {content: \"▾\";}#sk-container-id-1 div.sk-estimator input.sk-toggleable__control:checked~label.sk-toggleable__label {background-color: #d4ebff;}#sk-container-id-1 div.sk-label input.sk-toggleable__control:checked~label.sk-toggleable__label {background-color: #d4ebff;}#sk-container-id-1 input.sk-hidden--visually {border: 0;clip: rect(1px 1px 1px 1px);clip: rect(1px, 1px, 1px, 1px);height: 1px;margin: -1px;overflow: hidden;padding: 0;position: absolute;width: 1px;}#sk-container-id-1 div.sk-estimator {font-family: monospace;background-color: #f0f8ff;border: 1px dotted black;border-radius: 0.25em;box-sizing: border-box;margin-bottom: 0.5em;}#sk-container-id-1 div.sk-estimator:hover {background-color: #d4ebff;}#sk-container-id-1 div.sk-parallel-item::after {content: \"\";width: 100%;border-bottom: 1px solid gray;flex-grow: 1;}#sk-container-id-1 div.sk-label:hover label.sk-toggleable__label {background-color: #d4ebff;}#sk-container-id-1 div.sk-serial::before {content: \"\";position: absolute;border-left: 1px solid gray;box-sizing: border-box;top: 0;bottom: 0;left: 50%;z-index: 0;}#sk-container-id-1 div.sk-serial {display: flex;flex-direction: column;align-items: center;background-color: white;padding-right: 0.2em;padding-left: 0.2em;position: relative;}#sk-container-id-1 div.sk-item {position: relative;z-index: 1;}#sk-container-id-1 div.sk-parallel {display: flex;align-items: stretch;justify-content: center;background-color: white;position: relative;}#sk-container-id-1 div.sk-item::before, #sk-container-id-1 div.sk-parallel-item::before {content: \"\";position: absolute;border-left: 1px solid gray;box-sizing: border-box;top: 0;bottom: 0;left: 50%;z-index: -1;}#sk-container-id-1 div.sk-parallel-item {display: flex;flex-direction: column;z-index: 1;position: relative;background-color: white;}#sk-container-id-1 div.sk-parallel-item:first-child::after {align-self: flex-end;width: 50%;}#sk-container-id-1 div.sk-parallel-item:last-child::after {align-self: flex-start;width: 50%;}#sk-container-id-1 div.sk-parallel-item:only-child::after {width: 0;}#sk-container-id-1 div.sk-dashed-wrapped {border: 1px dashed gray;margin: 0 0.4em 0.5em 0.4em;box-sizing: border-box;padding-bottom: 0.4em;background-color: white;}#sk-container-id-1 div.sk-label label {font-family: monospace;font-weight: bold;display: inline-block;line-height: 1.2em;}#sk-container-id-1 div.sk-label-container {text-align: center;}#sk-container-id-1 div.sk-container {/* jupyter's `normalize.less` sets `[hidden] { display: none; }` but bootstrap.min.css set `[hidden] { display: none !important; }` so we also need the `!important` here to be able to override the default hidden behavior on the sphinx rendered scikit-learn.org. See: https://github.com/scikit-learn/scikit-learn/issues/21755 */display: inline-block !important;position: relative;}#sk-container-id-1 div.sk-text-repr-fallback {display: none;}</style><div id=\"sk-container-id-1\" class=\"sk-top-container\"><div class=\"sk-text-repr-fallback\"><pre>LabelEncoder()</pre><b>In a Jupyter environment, please rerun this cell to show the HTML representation or trust the notebook. <br />On GitHub, the HTML representation is unable to render, please try loading this page with nbviewer.org.</b></div><div class=\"sk-container\" hidden><div class=\"sk-item\"><div class=\"sk-estimator sk-toggleable\"><input class=\"sk-toggleable__control sk-hidden--visually\" id=\"sk-estimator-id-1\" type=\"checkbox\" checked><label for=\"sk-estimator-id-1\" class=\"sk-toggleable__label sk-toggleable__label-arrow\">LabelEncoder</label><div class=\"sk-toggleable__content\"><pre>LabelEncoder()</pre></div></div></div></div></div>"
      ],
      "text/plain": [
       "LabelEncoder()"
      ]
     },
     "execution_count": 19,
     "metadata": {},
     "output_type": "execute_result"
    }
   ],
   "source": [
    "le=LabelEncoder()\n",
    "le.fit(train['label'])"
   ]
  },
  {
   "cell_type": "code",
   "execution_count": 20,
   "id": "83ed04ce",
   "metadata": {},
   "outputs": [],
   "source": [
    "y_train=le.transform(train['label'])\n",
    "\n",
    "y_test=le.transform(test['label'])"
   ]
  },
  {
   "cell_type": "code",
   "execution_count": 21,
   "id": "00bf5987",
   "metadata": {},
   "outputs": [],
   "source": [
    "y_train=to_categorical(y_train, num_classes=7)\n",
    "y_test=to_categorical(y_test, num_classes=7)"
   ]
  },
  {
   "cell_type": "code",
   "execution_count": 22,
   "id": "a8a8891f",
   "metadata": {},
   "outputs": [
    {
     "name": "stdout",
     "output_type": "stream",
     "text": [
      "Note: you may need to restart the kernel to use updated packages.\n"
     ]
    },
    {
     "name": "stderr",
     "output_type": "stream",
     "text": [
      "ERROR: Could not find a version that satisfies the requirement Maxpooling2D (from versions: none)\n",
      "ERROR: No matching distribution found for Maxpooling2D\n"
     ]
    }
   ],
   "source": [
    "pip install Maxpooling2D "
   ]
  },
  {
   "cell_type": "code",
   "execution_count": 23,
   "id": "3add75c8",
   "metadata": {},
   "outputs": [
    {
     "name": "stdout",
     "output_type": "stream",
     "text": [
      "Note: you may need to restart the kernel to use updated packages.\n"
     ]
    },
    {
     "name": "stderr",
     "output_type": "stream",
     "text": [
      "ERROR: Could not find a version that satisfies the requirement Dropout (from versions: none)\n",
      "ERROR: No matching distribution found for Dropout\n"
     ]
    }
   ],
   "source": [
    "pip install Dropout"
   ]
  },
  {
   "cell_type": "code",
   "execution_count": 25,
   "id": "ce46d72f",
   "metadata": {},
   "outputs": [],
   "source": [
    "model = Sequential()\n",
    "# convolutional layers\n",
    "model.add(Conv2D(128, kernel_size=(3,3), activation='relu', input_shape=(48,48,1)))\n",
    "model.add(MaxPooling2D(pool_size=(2,2)))\n",
    "model.add(Dropout(0.4))\n",
    "\n",
    "model.add(Conv2D(256, kernel_size=(3,3), activation='relu'))\n",
    "model.add(MaxPooling2D(pool_size=(2,2)))\n",
    "model.add(Dropout(0.4))\n",
    "\n",
    "model.add(Conv2D(512, kernel_size=(3,3), activation='relu'))\n",
    "model.add(MaxPooling2D(pool_size=(2,2)))\n",
    "model.add(Dropout(0.4))\n",
    "\n",
    "model.add(Conv2D(512, kernel_size=(3,3), activation='relu'))\n",
    "model.add(MaxPooling2D(pool_size=(2,2)))\n",
    "model.add(Dropout(0.4))\n",
    "\n",
    "model.add(Flatten())\n",
    "# fully connected layers\n",
    "model.add(Dense(512, activation='relu'))\n",
    "model.add(Dropout(0.4))\n",
    "model.add(Dense(256, activation='relu'))\n",
    "model.add(Dropout(0.3))\n",
    "# output layer\n",
    "model.add(Dense(7, activation='softmax'))"
   ]
  },
  {
   "cell_type": "code",
   "execution_count": 26,
   "id": "8590bcda",
   "metadata": {},
   "outputs": [],
   "source": [
    "model.compile(optimizer = 'adam', loss = 'categorical_crossentropy', metrics = 'accuracy' )"
   ]
  },
  {
   "cell_type": "code",
   "execution_count": null,
   "id": "b212bb6e",
   "metadata": {},
   "outputs": [
    {
     "name": "stdout",
     "output_type": "stream",
     "text": [
      "Epoch 1/100\n",
      "226/226 [==============================] - 254s 1s/step - loss: 1.8244 - accuracy: 0.2444 - val_loss: 1.8115 - val_accuracy: 0.2583\n",
      "Epoch 2/100\n",
      "226/226 [==============================] - 282s 1s/step - loss: 1.8110 - accuracy: 0.2491 - val_loss: 1.7898 - val_accuracy: 0.2569\n",
      "Epoch 3/100\n",
      "226/226 [==============================] - 275s 1s/step - loss: 1.7785 - accuracy: 0.2600 - val_loss: 1.7083 - val_accuracy: 0.3190\n",
      "Epoch 4/100\n",
      "226/226 [==============================] - 256s 1s/step - loss: 1.6875 - accuracy: 0.3177 - val_loss: 1.6339 - val_accuracy: 0.3507\n",
      "Epoch 5/100\n",
      "226/226 [==============================] - 255s 1s/step - loss: 1.5661 - accuracy: 0.3831 - val_loss: 1.4353 - val_accuracy: 0.4465\n",
      "Epoch 6/100\n",
      "226/226 [==============================] - 256s 1s/step - loss: 1.4832 - accuracy: 0.4227 - val_loss: 1.3792 - val_accuracy: 0.4650\n",
      "Epoch 7/100\n",
      "226/226 [==============================] - 254s 1s/step - loss: 1.4327 - accuracy: 0.4441 - val_loss: 1.3331 - val_accuracy: 0.4926\n",
      "Epoch 8/100\n",
      "226/226 [==============================] - 255s 1s/step - loss: 1.3925 - accuracy: 0.4629 - val_loss: 1.2861 - val_accuracy: 0.5116\n",
      "Epoch 9/100\n",
      "226/226 [==============================] - 254s 1s/step - loss: 1.3671 - accuracy: 0.4747 - val_loss: 1.2834 - val_accuracy: 0.5137\n",
      "Epoch 10/100\n",
      "226/226 [==============================] - 298s 1s/step - loss: 1.3421 - accuracy: 0.4859 - val_loss: 1.2315 - val_accuracy: 0.5382\n",
      "Epoch 11/100\n",
      "226/226 [==============================] - 282s 1s/step - loss: 1.3157 - accuracy: 0.4950 - val_loss: 1.2051 - val_accuracy: 0.5408\n",
      "Epoch 12/100\n",
      "226/226 [==============================] - 277s 1s/step - loss: 1.2968 - accuracy: 0.5056 - val_loss: 1.1948 - val_accuracy: 0.5449\n",
      "Epoch 13/100\n",
      "226/226 [==============================] - 279s 1s/step - loss: 1.2802 - accuracy: 0.5103 - val_loss: 1.1923 - val_accuracy: 0.5507\n",
      "Epoch 14/100\n",
      "226/226 [==============================] - 278s 1s/step - loss: 1.2673 - accuracy: 0.5144 - val_loss: 1.1711 - val_accuracy: 0.5580\n",
      "Epoch 15/100\n",
      "226/226 [==============================] - 280s 1s/step - loss: 1.2481 - accuracy: 0.5235 - val_loss: 1.1644 - val_accuracy: 0.5541\n",
      "Epoch 16/100\n",
      "226/226 [==============================] - 279s 1s/step - loss: 1.2349 - accuracy: 0.5289 - val_loss: 1.1448 - val_accuracy: 0.5747\n",
      "Epoch 17/100\n",
      "226/226 [==============================] - 279s 1s/step - loss: 1.2248 - accuracy: 0.5341 - val_loss: 1.1427 - val_accuracy: 0.5691\n",
      "Epoch 18/100\n",
      "226/226 [==============================] - 276s 1s/step - loss: 1.2078 - accuracy: 0.5401 - val_loss: 1.1325 - val_accuracy: 0.5785\n",
      "Epoch 19/100\n",
      "226/226 [==============================] - 262s 1s/step - loss: 1.2007 - accuracy: 0.5450 - val_loss: 1.1535 - val_accuracy: 0.5628\n",
      "Epoch 20/100\n",
      "226/226 [==============================] - 261s 1s/step - loss: 1.1835 - accuracy: 0.5494 - val_loss: 1.1229 - val_accuracy: 0.5826\n",
      "Epoch 21/100\n",
      "226/226 [==============================] - 277s 1s/step - loss: 1.1774 - accuracy: 0.5512 - val_loss: 1.1301 - val_accuracy: 0.5781\n",
      "Epoch 22/100\n",
      "226/226 [==============================] - 283s 1s/step - loss: 1.1719 - accuracy: 0.5528 - val_loss: 1.1100 - val_accuracy: 0.5849\n",
      "Epoch 23/100\n",
      "226/226 [==============================] - 296s 1s/step - loss: 1.1589 - accuracy: 0.5630 - val_loss: 1.1150 - val_accuracy: 0.5875\n",
      "Epoch 24/100\n",
      "226/226 [==============================] - 279s 1s/step - loss: 1.1514 - accuracy: 0.5623 - val_loss: 1.1054 - val_accuracy: 0.5920\n",
      "Epoch 25/100\n",
      "226/226 [==============================] - 280s 1s/step - loss: 1.1413 - accuracy: 0.5692 - val_loss: 1.1134 - val_accuracy: 0.5839\n",
      "Epoch 26/100\n",
      "226/226 [==============================] - 277s 1s/step - loss: 1.1364 - accuracy: 0.5709 - val_loss: 1.0855 - val_accuracy: 0.5960\n",
      "Epoch 27/100\n",
      "226/226 [==============================] - 269s 1s/step - loss: 1.1214 - accuracy: 0.5754 - val_loss: 1.0964 - val_accuracy: 0.5928\n",
      "Epoch 28/100\n",
      "226/226 [==============================] - 260s 1s/step - loss: 1.1204 - accuracy: 0.5725 - val_loss: 1.0848 - val_accuracy: 0.5923\n",
      "Epoch 29/100\n",
      "226/226 [==============================] - 269s 1s/step - loss: 1.1148 - accuracy: 0.5775 - val_loss: 1.0776 - val_accuracy: 0.5985\n",
      "Epoch 30/100\n",
      "226/226 [==============================] - 324s 1s/step - loss: 1.1033 - accuracy: 0.5842 - val_loss: 1.0902 - val_accuracy: 0.5968\n",
      "Epoch 31/100\n",
      "226/226 [==============================] - 279s 1s/step - loss: 1.0953 - accuracy: 0.5854 - val_loss: 1.0713 - val_accuracy: 0.6008\n",
      "Epoch 32/100\n",
      "226/226 [==============================] - 258s 1s/step - loss: 1.0942 - accuracy: 0.5871 - val_loss: 1.0872 - val_accuracy: 0.5903\n",
      "Epoch 33/100\n",
      "226/226 [==============================] - 262s 1s/step - loss: 1.0826 - accuracy: 0.5937 - val_loss: 1.0769 - val_accuracy: 0.5948\n",
      "Epoch 34/100\n",
      "226/226 [==============================] - 259s 1s/step - loss: 1.0720 - accuracy: 0.5958 - val_loss: 1.0604 - val_accuracy: 0.6046\n",
      "Epoch 35/100\n",
      "226/226 [==============================] - 260s 1s/step - loss: 1.0656 - accuracy: 0.5966 - val_loss: 1.0708 - val_accuracy: 0.6036\n",
      "Epoch 36/100\n",
      "226/226 [==============================] - 260s 1s/step - loss: 1.0554 - accuracy: 0.6036 - val_loss: 1.0623 - val_accuracy: 0.6039\n",
      "Epoch 37/100\n",
      "226/226 [==============================] - 279s 1s/step - loss: 1.0584 - accuracy: 0.5991 - val_loss: 1.0694 - val_accuracy: 0.6032\n",
      "Epoch 38/100\n",
      "226/226 [==============================] - 339s 2s/step - loss: 1.0443 - accuracy: 0.6066 - val_loss: 1.0562 - val_accuracy: 0.6073\n",
      "Epoch 39/100\n",
      "226/226 [==============================] - 315s 1s/step - loss: 1.0394 - accuracy: 0.6089 - val_loss: 1.0513 - val_accuracy: 0.6095\n",
      "Epoch 40/100\n",
      "226/226 [==============================] - 269s 1s/step - loss: 1.0366 - accuracy: 0.6094 - val_loss: 1.0572 - val_accuracy: 0.6033\n",
      "Epoch 41/100\n",
      "196/226 [=========================>....] - ETA: 33s - loss: 1.0271 - accuracy: 0.6146"
     ]
    }
   ],
   "source": [
    "model.fit(x= x_train,y = y_train, batch_size = 128, epochs = 100, validation_data = (x_test,y_test))"
   ]
  },
  {
   "cell_type": "code",
   "execution_count": null,
   "id": "bd5ba78b",
   "metadata": {},
   "outputs": [],
   "source": []
  }
 ],
 "metadata": {
  "kernelspec": {
   "display_name": "Python 3 (ipykernel)",
   "language": "python",
   "name": "python3"
  },
  "language_info": {
   "codemirror_mode": {
    "name": "ipython",
    "version": 3
   },
   "file_extension": ".py",
   "mimetype": "text/x-python",
   "name": "python",
   "nbconvert_exporter": "python",
   "pygments_lexer": "ipython3",
   "version": "3.9.18"
  }
 },
 "nbformat": 4,
 "nbformat_minor": 5
}
